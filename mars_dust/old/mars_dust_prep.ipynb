{
 "cells": [
  {
   "cell_type": "markdown",
   "metadata": {},
   "source": [
    "# Data Prep for Modeling"
   ]
  },
  {
   "cell_type": "markdown",
   "metadata": {},
   "source": [
    "### Import Needed Modules "
   ]
  },
  {
   "cell_type": "code",
   "execution_count": 1,
   "metadata": {},
   "outputs": [],
   "source": [
    "import pandas as pd\n",
    "import numpy as np\n",
    "import matplotlib.pyplot as plt"
   ]
  },
  {
   "cell_type": "markdown",
   "metadata": {},
   "source": [
    "### Import Required Data"
   ]
  },
  {
   "cell_type": "code",
   "execution_count": 8,
   "metadata": {},
   "outputs": [
    {
     "name": "stdout",
     "output_type": "stream",
     "text": [
      "validation and training set loaded successfully\n"
     ]
    }
   ],
   "source": [
    "val = pd.read_csv(\"val.csv\")\n",
    "train = pd.read_csv(\"train.csv\")\n",
    "storms = pd.read_csv('MDAD.csv')\n",
    "print(\"validation and training set loaded successfully\")"
   ]
  },
  {
   "cell_type": "code",
   "execution_count": 3,
   "metadata": {},
   "outputs": [
    {
     "data": {
      "text/html": [
       "<div>\n",
       "<style scoped>\n",
       "    .dataframe tbody tr th:only-of-type {\n",
       "        vertical-align: middle;\n",
       "    }\n",
       "\n",
       "    .dataframe tbody tr th {\n",
       "        vertical-align: top;\n",
       "    }\n",
       "\n",
       "    .dataframe thead th {\n",
       "        text-align: right;\n",
       "    }\n",
       "</style>\n",
       "<table border=\"1\" class=\"dataframe\">\n",
       "  <thead>\n",
       "    <tr style=\"text-align: right;\">\n",
       "      <th></th>\n",
       "      <th>Unnamed: 0</th>\n",
       "      <th>Mars Year</th>\n",
       "      <th>Sol</th>\n",
       "      <th>Ls</th>\n",
       "      <th>Centroid longitude</th>\n",
       "      <th>Centroid latitude</th>\n",
       "      <th>Area (square km)</th>\n",
       "      <th>Maximum latitude</th>\n",
       "      <th>Minimum latitude</th>\n",
       "      <th>Confidence interval</th>\n",
       "      <th>Missing data</th>\n",
       "    </tr>\n",
       "  </thead>\n",
       "  <tbody>\n",
       "    <tr>\n",
       "      <th>count</th>\n",
       "      <td>7487.000000</td>\n",
       "      <td>7487.000000</td>\n",
       "      <td>7487.000000</td>\n",
       "      <td>7487.000000</td>\n",
       "      <td>7487.000000</td>\n",
       "      <td>7487.000000</td>\n",
       "      <td>7.487000e+03</td>\n",
       "      <td>7487.000000</td>\n",
       "      <td>7487.000000</td>\n",
       "      <td>7487.000000</td>\n",
       "      <td>7487.000000</td>\n",
       "    </tr>\n",
       "    <tr>\n",
       "      <th>mean</th>\n",
       "      <td>3743.000000</td>\n",
       "      <td>30.435956</td>\n",
       "      <td>16.152264</td>\n",
       "      <td>163.354054</td>\n",
       "      <td>-8.899005</td>\n",
       "      <td>-6.895492</td>\n",
       "      <td>9.080070e+05</td>\n",
       "      <td>1.071237</td>\n",
       "      <td>-14.730633</td>\n",
       "      <td>68.278349</td>\n",
       "      <td>0.802725</td>\n",
       "    </tr>\n",
       "    <tr>\n",
       "      <th>std</th>\n",
       "      <td>2161.455065</td>\n",
       "      <td>1.037955</td>\n",
       "      <td>9.148801</td>\n",
       "      <td>96.973304</td>\n",
       "      <td>95.743530</td>\n",
       "      <td>49.328366</td>\n",
       "      <td>1.681386e+06</td>\n",
       "      <td>50.798622</td>\n",
       "      <td>47.868271</td>\n",
       "      <td>14.749706</td>\n",
       "      <td>0.397968</td>\n",
       "    </tr>\n",
       "    <tr>\n",
       "      <th>min</th>\n",
       "      <td>0.000000</td>\n",
       "      <td>28.000000</td>\n",
       "      <td>1.000000</td>\n",
       "      <td>0.000000</td>\n",
       "      <td>-179.950000</td>\n",
       "      <td>-82.250000</td>\n",
       "      <td>1.343662e+03</td>\n",
       "      <td>-78.550000</td>\n",
       "      <td>-89.450000</td>\n",
       "      <td>50.000000</td>\n",
       "      <td>0.000000</td>\n",
       "    </tr>\n",
       "    <tr>\n",
       "      <th>25%</th>\n",
       "      <td>1871.500000</td>\n",
       "      <td>30.000000</td>\n",
       "      <td>8.000000</td>\n",
       "      <td>76.200000</td>\n",
       "      <td>-78.150000</td>\n",
       "      <td>-49.450000</td>\n",
       "      <td>1.121855e+05</td>\n",
       "      <td>-43.450000</td>\n",
       "      <td>-56.050000</td>\n",
       "      <td>50.000000</td>\n",
       "      <td>1.000000</td>\n",
       "    </tr>\n",
       "    <tr>\n",
       "      <th>50%</th>\n",
       "      <td>3743.000000</td>\n",
       "      <td>30.000000</td>\n",
       "      <td>16.000000</td>\n",
       "      <td>162.100000</td>\n",
       "      <td>-28.350000</td>\n",
       "      <td>-27.650000</td>\n",
       "      <td>3.416653e+05</td>\n",
       "      <td>-17.450000</td>\n",
       "      <td>-34.850000</td>\n",
       "      <td>75.000000</td>\n",
       "      <td>1.000000</td>\n",
       "    </tr>\n",
       "    <tr>\n",
       "      <th>75%</th>\n",
       "      <td>5614.500000</td>\n",
       "      <td>31.000000</td>\n",
       "      <td>24.000000</td>\n",
       "      <td>226.000000</td>\n",
       "      <td>63.650000</td>\n",
       "      <td>45.350000</td>\n",
       "      <td>9.636997e+05</td>\n",
       "      <td>54.450000</td>\n",
       "      <td>35.150000</td>\n",
       "      <td>75.000000</td>\n",
       "      <td>1.000000</td>\n",
       "    </tr>\n",
       "    <tr>\n",
       "      <th>max</th>\n",
       "      <td>7486.000000</td>\n",
       "      <td>32.000000</td>\n",
       "      <td>34.000000</td>\n",
       "      <td>359.600000</td>\n",
       "      <td>179.950000</td>\n",
       "      <td>82.150000</td>\n",
       "      <td>3.005114e+07</td>\n",
       "      <td>89.950000</td>\n",
       "      <td>77.150000</td>\n",
       "      <td>100.000000</td>\n",
       "      <td>1.000000</td>\n",
       "    </tr>\n",
       "  </tbody>\n",
       "</table>\n",
       "</div>"
      ],
      "text/plain": [
       "        Unnamed: 0    Mars Year          Sol           Ls  Centroid longitude  \\\n",
       "count  7487.000000  7487.000000  7487.000000  7487.000000         7487.000000   \n",
       "mean   3743.000000    30.435956    16.152264   163.354054           -8.899005   \n",
       "std    2161.455065     1.037955     9.148801    96.973304           95.743530   \n",
       "min       0.000000    28.000000     1.000000     0.000000         -179.950000   \n",
       "25%    1871.500000    30.000000     8.000000    76.200000          -78.150000   \n",
       "50%    3743.000000    30.000000    16.000000   162.100000          -28.350000   \n",
       "75%    5614.500000    31.000000    24.000000   226.000000           63.650000   \n",
       "max    7486.000000    32.000000    34.000000   359.600000          179.950000   \n",
       "\n",
       "       Centroid latitude  Area (square km)  Maximum latitude  \\\n",
       "count        7487.000000      7.487000e+03       7487.000000   \n",
       "mean           -6.895492      9.080070e+05          1.071237   \n",
       "std            49.328366      1.681386e+06         50.798622   \n",
       "min           -82.250000      1.343662e+03        -78.550000   \n",
       "25%           -49.450000      1.121855e+05        -43.450000   \n",
       "50%           -27.650000      3.416653e+05        -17.450000   \n",
       "75%            45.350000      9.636997e+05         54.450000   \n",
       "max            82.150000      3.005114e+07         89.950000   \n",
       "\n",
       "       Minimum latitude  Confidence interval  Missing data  \n",
       "count       7487.000000          7487.000000   7487.000000  \n",
       "mean         -14.730633            68.278349      0.802725  \n",
       "std           47.868271            14.749706      0.397968  \n",
       "min          -89.450000            50.000000      0.000000  \n",
       "25%          -56.050000            50.000000      1.000000  \n",
       "50%          -34.850000            75.000000      1.000000  \n",
       "75%           35.150000            75.000000      1.000000  \n",
       "max           77.150000           100.000000      1.000000  "
      ]
     },
     "execution_count": 3,
     "metadata": {},
     "output_type": "execute_result"
    }
   ],
   "source": [
    "train.describe()"
   ]
  },
  {
   "cell_type": "markdown",
   "metadata": {},
   "source": [
    "## Prepping Variables for Modeling \n",
    "\n",
    "We will now identify and create dummy variables for columns as well as do some feature engineering on the time series portion of the data."
   ]
  },
  {
   "cell_type": "code",
   "execution_count": 4,
   "metadata": {},
   "outputs": [
    {
     "data": {
      "text/html": [
       "<div>\n",
       "<style scoped>\n",
       "    .dataframe tbody tr th:only-of-type {\n",
       "        vertical-align: middle;\n",
       "    }\n",
       "\n",
       "    .dataframe tbody tr th {\n",
       "        vertical-align: top;\n",
       "    }\n",
       "\n",
       "    .dataframe thead th {\n",
       "        text-align: right;\n",
       "    }\n",
       "</style>\n",
       "<table border=\"1\" class=\"dataframe\">\n",
       "  <thead>\n",
       "    <tr style=\"text-align: right;\">\n",
       "      <th></th>\n",
       "      <th>Unnamed: 0</th>\n",
       "      <th>Mars Year</th>\n",
       "      <th>Mission subphase</th>\n",
       "      <th>Sol</th>\n",
       "      <th>Ls</th>\n",
       "      <th>Centroid longitude</th>\n",
       "      <th>Centroid latitude</th>\n",
       "      <th>Area (square km)</th>\n",
       "      <th>Member ID</th>\n",
       "      <th>Sequence ID</th>\n",
       "      <th>Maximum latitude</th>\n",
       "      <th>Minimum latitude</th>\n",
       "      <th>Confidence interval</th>\n",
       "      <th>Missing data</th>\n",
       "    </tr>\n",
       "  </thead>\n",
       "  <tbody>\n",
       "    <tr>\n",
       "      <th>0</th>\n",
       "      <td>7487</td>\n",
       "      <td>28</td>\n",
       "      <td>P01</td>\n",
       "      <td>20</td>\n",
       "      <td>141.2</td>\n",
       "      <td>-85.85</td>\n",
       "      <td>-25.45</td>\n",
       "      <td>231356.08</td>\n",
       "      <td>P01_064</td>\n",
       "      <td>NaN</td>\n",
       "      <td>-14.95</td>\n",
       "      <td>-32.75</td>\n",
       "      <td>75</td>\n",
       "      <td>1</td>\n",
       "    </tr>\n",
       "    <tr>\n",
       "      <th>1</th>\n",
       "      <td>7488</td>\n",
       "      <td>28</td>\n",
       "      <td>P01</td>\n",
       "      <td>20</td>\n",
       "      <td>141.2</td>\n",
       "      <td>-166.45</td>\n",
       "      <td>-49.45</td>\n",
       "      <td>163109.89</td>\n",
       "      <td>P01_065</td>\n",
       "      <td>NaN</td>\n",
       "      <td>-45.35</td>\n",
       "      <td>-53.75</td>\n",
       "      <td>75</td>\n",
       "      <td>1</td>\n",
       "    </tr>\n",
       "    <tr>\n",
       "      <th>2</th>\n",
       "      <td>7489</td>\n",
       "      <td>28</td>\n",
       "      <td>P01</td>\n",
       "      <td>21</td>\n",
       "      <td>141.6</td>\n",
       "      <td>-46.65</td>\n",
       "      <td>60.35</td>\n",
       "      <td>1361312.20</td>\n",
       "      <td>P01_004+006+008</td>\n",
       "      <td>NaN</td>\n",
       "      <td>72.95</td>\n",
       "      <td>48.55</td>\n",
       "      <td>75</td>\n",
       "      <td>1</td>\n",
       "    </tr>\n",
       "    <tr>\n",
       "      <th>3</th>\n",
       "      <td>7490</td>\n",
       "      <td>28</td>\n",
       "      <td>P01</td>\n",
       "      <td>21</td>\n",
       "      <td>141.6</td>\n",
       "      <td>-80.55</td>\n",
       "      <td>-20.55</td>\n",
       "      <td>652738.31</td>\n",
       "      <td>P01_063+064</td>\n",
       "      <td>NaN</td>\n",
       "      <td>-11.45</td>\n",
       "      <td>-30.25</td>\n",
       "      <td>100</td>\n",
       "      <td>1</td>\n",
       "    </tr>\n",
       "    <tr>\n",
       "      <th>4</th>\n",
       "      <td>7491</td>\n",
       "      <td>28</td>\n",
       "      <td>P01</td>\n",
       "      <td>22</td>\n",
       "      <td>142.1</td>\n",
       "      <td>-41.65</td>\n",
       "      <td>59.25</td>\n",
       "      <td>1818981.50</td>\n",
       "      <td>P01_004+006+008</td>\n",
       "      <td>NaN</td>\n",
       "      <td>72.75</td>\n",
       "      <td>41.75</td>\n",
       "      <td>75</td>\n",
       "      <td>1</td>\n",
       "    </tr>\n",
       "  </tbody>\n",
       "</table>\n",
       "</div>"
      ],
      "text/plain": [
       "   Unnamed: 0  Mars Year Mission subphase  Sol     Ls  Centroid longitude  \\\n",
       "0        7487         28              P01   20  141.2              -85.85   \n",
       "1        7488         28              P01   20  141.2             -166.45   \n",
       "2        7489         28              P01   21  141.6              -46.65   \n",
       "3        7490         28              P01   21  141.6              -80.55   \n",
       "4        7491         28              P01   22  142.1              -41.65   \n",
       "\n",
       "   Centroid latitude  Area (square km)        Member ID Sequence ID  \\\n",
       "0             -25.45         231356.08          P01_064         NaN   \n",
       "1             -49.45         163109.89          P01_065         NaN   \n",
       "2              60.35        1361312.20  P01_004+006+008         NaN   \n",
       "3             -20.55         652738.31      P01_063+064         NaN   \n",
       "4              59.25        1818981.50  P01_004+006+008         NaN   \n",
       "\n",
       "   Maximum latitude  Minimum latitude  Confidence interval  Missing data  \n",
       "0            -14.95            -32.75                   75             1  \n",
       "1            -45.35            -53.75                   75             1  \n",
       "2             72.95             48.55                   75             1  \n",
       "3            -11.45            -30.25                  100             1  \n",
       "4             72.75             41.75                   75             1  "
      ]
     },
     "execution_count": 4,
     "metadata": {},
     "output_type": "execute_result"
    }
   ],
   "source": [
    "val.head()"
   ]
  },
  {
   "cell_type": "markdown",
   "metadata": {},
   "source": [
    "### Time Series Feature Engineering\n",
    "I will create a summary of the length of the storms. Here we will take `Mars Year` and `Sol` and group them by the number of storms and when they occured."
   ]
  },
  {
   "cell_type": "code",
   "execution_count": 20,
   "metadata": {},
   "outputs": [
    {
     "name": "stdout",
     "output_type": "stream",
     "text": [
      "Number of Unique Storm Names, Including Grouped Storms\n"
     ]
    },
    {
     "data": {
      "text/plain": [
       "8294"
      ]
     },
     "execution_count": 20,
     "metadata": {},
     "output_type": "execute_result"
    }
   ],
   "source": [
    "print(\"Number of Unique Storm Names, Including Grouped Storms\")\n",
    "len(storms['Member ID'].unique())"
   ]
  },
  {
   "cell_type": "code",
   "execution_count": 29,
   "metadata": {},
   "outputs": [
    {
     "data": {
      "text/plain": [
       "1084"
      ]
     },
     "execution_count": 29,
     "metadata": {},
     "output_type": "execute_result"
    }
   ],
   "source": [
    "counter = 0\n",
    "storm_list = []\n",
    "for i in storms['Member ID']:\n",
    "    #print(i)\n",
    "    if \"+\" in i:\n",
    "        #print(i)\n",
    "        counter += 1\n",
    "        \n",
    "counter"
   ]
  },
  {
   "cell_type": "code",
   "execution_count": 57,
   "metadata": {},
   "outputs": [
    {
     "name": "stdout",
     "output_type": "stream",
     "text": [
      "Entry 1: ['B02_002', '003', '008', '010']\n",
      "Initial Title: ['B02', '002']\n",
      "Updated Title: B02\n",
      "Appended Entry with Leftover Entry: ['B02_002', '003', '008', '010', '0']\n",
      "Current Entry: ['003', '008', '010', '0']\n",
      "Fixed Entry: ['B02_003', 'B02_008', 'B02_010', 'B02_0']\n"
     ]
    }
   ],
   "source": [
    "#need to develop a method to split out the combined storms\n",
    "fixed_entry = []\n",
    "entry = 'B02_002+003+008+010'.split(\"+\")\n",
    "print(f\"Entry 1: {entry}\")\n",
    "title = entry[0].split(\"_\")\n",
    "print(f\"Initial Title: {title}\")\n",
    "title = title[0]\n",
    "print(f\"Updated Title: {title}\")\n",
    "entry.append(title[1])\n",
    "print(f\"Appended Entry with Leftover Entry: {entry}\")\n",
    "entry = entry[1:]\n",
    "print(f\"Current Entry: {entry}\")\n",
    "#for number in entry:\n",
    "for i in entry:\n",
    "    fixed_entry.append(str(title)+\"_\"+str(i))\n",
    "    \n",
    "print(f\"Fixed Entry: {fixed_entry}\")"
   ]
  },
  {
   "cell_type": "code",
   "execution_count": 58,
   "metadata": {},
   "outputs": [
    {
     "data": {
      "text/plain": [
       "['B02_003', 'B02_008', 'B02_010', 'B02_0']"
      ]
     },
     "execution_count": 58,
     "metadata": {},
     "output_type": "execute_result"
    }
   ],
   "source": [
    "fixed_entry"
   ]
  },
  {
   "cell_type": "code",
   "execution_count": null,
   "metadata": {},
   "outputs": [],
   "source": [
    "storms_count = storms.groupby(['Mars Year','Sol']).agg({'Ls':'count'})    "
   ]
  }
 ],
 "metadata": {
  "kernelspec": {
   "display_name": "Python 3",
   "language": "python",
   "name": "python3"
  },
  "language_info": {
   "codemirror_mode": {
    "name": "ipython",
    "version": 3
   },
   "file_extension": ".py",
   "mimetype": "text/x-python",
   "name": "python",
   "nbconvert_exporter": "python",
   "pygments_lexer": "ipython3",
   "version": "3.7.6"
  }
 },
 "nbformat": 4,
 "nbformat_minor": 2
}